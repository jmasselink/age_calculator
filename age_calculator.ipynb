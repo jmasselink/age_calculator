{
 "cells": [
  {
   "cell_type": "markdown",
   "metadata": {},
   "source": [
    "This notebook allows you to play around with ages and to answer the questions like:\n",
    "- when will Jim be 50% of Daniel's age?\n",
    "- when will Jim be 15,000 days old?"
   ]
  },
  {
   "cell_type": "code",
   "execution_count": 1,
   "metadata": {},
   "outputs": [],
   "source": [
    "import os, sys\n",
    "import datetime as dt #documentation: https://docs.python.org/3.5/library/datetime.html"
   ]
  },
  {
   "cell_type": "markdown",
   "metadata": {},
   "source": [
    "Calculate date from system"
   ]
  },
  {
   "cell_type": "code",
   "execution_count": 6,
   "metadata": {},
   "outputs": [
    {
     "name": "stdout",
     "output_type": "stream",
     "text": [
      "2018-09-15\n"
     ]
    }
   ],
   "source": [
    "print(dt.date.today())"
   ]
  },
  {
   "cell_type": "markdown",
   "metadata": {},
   "source": [
    "Calculate datetime (object) now"
   ]
  },
  {
   "cell_type": "code",
   "execution_count": 7,
   "metadata": {},
   "outputs": [
    {
     "name": "stdout",
     "output_type": "stream",
     "text": [
      "2018-09-15 15:07:59.960394\n"
     ]
    }
   ],
   "source": [
    "now = dt.datetime.now()\n",
    "print(now)"
   ]
  },
  {
   "cell_type": "markdown",
   "metadata": {},
   "source": [
    "Create ordinal to store TODAY"
   ]
  },
  {
   "cell_type": "code",
   "execution_count": 8,
   "metadata": {},
   "outputs": [
    {
     "name": "stdout",
     "output_type": "stream",
     "text": [
      "736952\n"
     ]
    }
   ],
   "source": [
    "ord_today = dt.date.today().toordinal()\n",
    "print(ord_today)"
   ]
  },
  {
   "cell_type": "markdown",
   "metadata": {},
   "source": [
    "Determine my age in days"
   ]
  },
  {
   "cell_type": "markdown",
   "metadata": {},
   "source": [
    "Create a function to calculate age in days and years based on DOB:"
   ]
  },
  {
   "cell_type": "code",
   "execution_count": 9,
   "metadata": {},
   "outputs": [],
   "source": [
    "def calculate_age():\n",
    "\n",
    "    # request user input birthdate \n",
    "    year = int(input(\"What year were you born?  \"))\n",
    "    month = int(input(\"What month (1-12) were you born?  \"))\n",
    "    day = int(input(\"What day (1-31) were you born?  \"))\n",
    "\n",
    "    # save to datetime and ordinal types    \n",
    "    dob = dt.date(year, month, day)\n",
    "    ord_dob = dob.toordinal()\n",
    "    \n",
    "    # get today:\n",
    "    today = dt.date.today()\n",
    "    ord_today = today.toordinal()\n",
    "    \n",
    "    # calculate age in days\n",
    "    age_days = ord_today - ord_dob\n",
    "    \n",
    "    # formate age in years\n",
    "    age =  (age_days / 365.25) \n",
    "    age_yrs = '{:.2f}'.format(age)\n",
    "    print(\"You are\", age_days, \"days old or\", age_yrs, \"years old!\")    "
   ]
  },
  {
   "cell_type": "code",
   "execution_count": 10,
   "metadata": {},
   "outputs": [
    {
     "name": "stdin",
     "output_type": "stream",
     "text": [
      "What year were you born?   1927\n",
      "What month (1-12) were you born?   8\n",
      "What day (1-31) were you born?   22\n"
     ]
    },
    {
     "name": "stdout",
     "output_type": "stream",
     "text": [
      "You are 33262 days old or 91.07 years old!\n"
     ]
    }
   ],
   "source": [
    "calculate_age()"
   ]
  },
  {
   "cell_type": "markdown",
   "metadata": {},
   "source": [
    "### Import Pandas, Numpy for interacting with DataFrames"
   ]
  },
  {
   "cell_type": "code",
   "execution_count": 11,
   "metadata": {},
   "outputs": [],
   "source": [
    "import pandas as pd\n",
    "import numpy as np"
   ]
  },
  {
   "cell_type": "code",
   "execution_count": 13,
   "metadata": {},
   "outputs": [
    {
     "data": {
      "text/plain": [
       "Index(['Jim', 'Catharine', 'Daniel', 'Molly'], dtype='object', name='Names')"
      ]
     },
     "execution_count": 13,
     "metadata": {},
     "output_type": "execute_result"
    }
   ],
   "source": [
    "family = pd.Index(data=[\"Jim\", \"Catharine\", \"Daniel\", \"Molly\"],name=\"Names\")\n",
    "family"
   ]
  },
  {
   "cell_type": "code",
   "execution_count": 14,
   "metadata": {},
   "outputs": [
    {
     "data": {
      "text/plain": [
       "<bound method Index.is_object of Index(['Jim', 'Catharine', 'Daniel', 'Molly'], dtype='object', name='Names')>"
      ]
     },
     "execution_count": 14,
     "metadata": {},
     "output_type": "execute_result"
    }
   ],
   "source": [
    "family.is_object"
   ]
  },
  {
   "cell_type": "code",
   "execution_count": 15,
   "metadata": {},
   "outputs": [
    {
     "data": {
      "text/html": [
       "<div>\n",
       "<style scoped>\n",
       "    .dataframe tbody tr th:only-of-type {\n",
       "        vertical-align: middle;\n",
       "    }\n",
       "\n",
       "    .dataframe tbody tr th {\n",
       "        vertical-align: top;\n",
       "    }\n",
       "\n",
       "    .dataframe thead th {\n",
       "        text-align: right;\n",
       "    }\n",
       "</style>\n",
       "<table border=\"1\" class=\"dataframe\">\n",
       "  <thead>\n",
       "    <tr style=\"text-align: right;\">\n",
       "      <th></th>\n",
       "    </tr>\n",
       "    <tr>\n",
       "      <th>Names</th>\n",
       "    </tr>\n",
       "  </thead>\n",
       "  <tbody>\n",
       "    <tr>\n",
       "      <th>Jim</th>\n",
       "    </tr>\n",
       "    <tr>\n",
       "      <th>Catharine</th>\n",
       "    </tr>\n",
       "    <tr>\n",
       "      <th>Daniel</th>\n",
       "    </tr>\n",
       "    <tr>\n",
       "      <th>Molly</th>\n",
       "    </tr>\n",
       "  </tbody>\n",
       "</table>\n",
       "</div>"
      ],
      "text/plain": [
       "Empty DataFrame\n",
       "Columns: []\n",
       "Index: [Jim, Catharine, Daniel, Molly]"
      ]
     },
     "execution_count": 15,
     "metadata": {},
     "output_type": "execute_result"
    }
   ],
   "source": [
    "df = pd.DataFrame(data=None, index=family, columns=None)\n",
    "df"
   ]
  },
  {
   "cell_type": "code",
   "execution_count": 16,
   "metadata": {},
   "outputs": [
    {
     "data": {
      "text/plain": [
       "4"
      ]
     },
     "execution_count": 16,
     "metadata": {},
     "output_type": "execute_result"
    }
   ],
   "source": [
    "sLength = len(family)\n",
    "sLength"
   ]
  },
  {
   "cell_type": "code",
   "execution_count": 17,
   "metadata": {},
   "outputs": [
    {
     "data": {
      "text/html": [
       "<div>\n",
       "<style scoped>\n",
       "    .dataframe tbody tr th:only-of-type {\n",
       "        vertical-align: middle;\n",
       "    }\n",
       "\n",
       "    .dataframe tbody tr th {\n",
       "        vertical-align: top;\n",
       "    }\n",
       "\n",
       "    .dataframe thead th {\n",
       "        text-align: right;\n",
       "    }\n",
       "</style>\n",
       "<table border=\"1\" class=\"dataframe\">\n",
       "  <thead>\n",
       "    <tr style=\"text-align: right;\">\n",
       "      <th></th>\n",
       "      <th>DOB</th>\n",
       "    </tr>\n",
       "    <tr>\n",
       "      <th>Names</th>\n",
       "      <th></th>\n",
       "    </tr>\n",
       "  </thead>\n",
       "  <tbody>\n",
       "    <tr>\n",
       "      <th>Jim</th>\n",
       "      <td>-0.261410</td>\n",
       "    </tr>\n",
       "    <tr>\n",
       "      <th>Catharine</th>\n",
       "      <td>-0.641182</td>\n",
       "    </tr>\n",
       "    <tr>\n",
       "      <th>Daniel</th>\n",
       "      <td>0.140441</td>\n",
       "    </tr>\n",
       "    <tr>\n",
       "      <th>Molly</th>\n",
       "      <td>-0.503649</td>\n",
       "    </tr>\n",
       "  </tbody>\n",
       "</table>\n",
       "</div>"
      ],
      "text/plain": [
       "                DOB\n",
       "Names              \n",
       "Jim       -0.261410\n",
       "Catharine -0.641182\n",
       "Daniel     0.140441\n",
       "Molly     -0.503649"
      ]
     },
     "execution_count": 17,
     "metadata": {},
     "output_type": "execute_result"
    }
   ],
   "source": [
    "df[\"DOB\"] = pd.Series(np.random.randn(sLength), index=family)\n",
    "df"
   ]
  },
  {
   "cell_type": "markdown",
   "metadata": {},
   "source": [
    "Replace these random numbers with real dates"
   ]
  },
  {
   "cell_type": "code",
   "execution_count": 18,
   "metadata": {},
   "outputs": [
    {
     "data": {
      "text/html": [
       "<div>\n",
       "<style scoped>\n",
       "    .dataframe tbody tr th:only-of-type {\n",
       "        vertical-align: middle;\n",
       "    }\n",
       "\n",
       "    .dataframe tbody tr th {\n",
       "        vertical-align: top;\n",
       "    }\n",
       "\n",
       "    .dataframe thead th {\n",
       "        text-align: right;\n",
       "    }\n",
       "</style>\n",
       "<table border=\"1\" class=\"dataframe\">\n",
       "  <thead>\n",
       "    <tr style=\"text-align: right;\">\n",
       "      <th></th>\n",
       "      <th>DOB</th>\n",
       "    </tr>\n",
       "    <tr>\n",
       "      <th>Names</th>\n",
       "      <th></th>\n",
       "    </tr>\n",
       "  </thead>\n",
       "  <tbody>\n",
       "    <tr>\n",
       "      <th>Jim</th>\n",
       "      <td>1983-04-13</td>\n",
       "    </tr>\n",
       "    <tr>\n",
       "      <th>Catharine</th>\n",
       "      <td>1982-09-19</td>\n",
       "    </tr>\n",
       "    <tr>\n",
       "      <th>Daniel</th>\n",
       "      <td>1946-10-07</td>\n",
       "    </tr>\n",
       "    <tr>\n",
       "      <th>Molly</th>\n",
       "      <td>1949-10-23</td>\n",
       "    </tr>\n",
       "  </tbody>\n",
       "</table>\n",
       "</div>"
      ],
      "text/plain": [
       "                 DOB\n",
       "Names               \n",
       "Jim       1983-04-13\n",
       "Catharine 1982-09-19\n",
       "Daniel    1946-10-07\n",
       "Molly     1949-10-23"
      ]
     },
     "execution_count": 18,
     "metadata": {},
     "output_type": "execute_result"
    }
   ],
   "source": [
    "df['DOB'] = pd.Series(np.array(['1983-04-13', '1982-09-19', '1946-10-07', '1949-10-23'], dtype='datetime64'), index=family)\n",
    "df"
   ]
  },
  {
   "cell_type": "markdown",
   "metadata": {},
   "source": [
    "Sort values from oldest in ascending order."
   ]
  },
  {
   "cell_type": "code",
   "execution_count": 19,
   "metadata": {},
   "outputs": [
    {
     "data": {
      "text/html": [
       "<div>\n",
       "<style scoped>\n",
       "    .dataframe tbody tr th:only-of-type {\n",
       "        vertical-align: middle;\n",
       "    }\n",
       "\n",
       "    .dataframe tbody tr th {\n",
       "        vertical-align: top;\n",
       "    }\n",
       "\n",
       "    .dataframe thead th {\n",
       "        text-align: right;\n",
       "    }\n",
       "</style>\n",
       "<table border=\"1\" class=\"dataframe\">\n",
       "  <thead>\n",
       "    <tr style=\"text-align: right;\">\n",
       "      <th></th>\n",
       "      <th>DOB</th>\n",
       "    </tr>\n",
       "    <tr>\n",
       "      <th>Names</th>\n",
       "      <th></th>\n",
       "    </tr>\n",
       "  </thead>\n",
       "  <tbody>\n",
       "    <tr>\n",
       "      <th>Daniel</th>\n",
       "      <td>1946-10-07</td>\n",
       "    </tr>\n",
       "    <tr>\n",
       "      <th>Molly</th>\n",
       "      <td>1949-10-23</td>\n",
       "    </tr>\n",
       "    <tr>\n",
       "      <th>Catharine</th>\n",
       "      <td>1982-09-19</td>\n",
       "    </tr>\n",
       "    <tr>\n",
       "      <th>Jim</th>\n",
       "      <td>1983-04-13</td>\n",
       "    </tr>\n",
       "  </tbody>\n",
       "</table>\n",
       "</div>"
      ],
      "text/plain": [
       "                 DOB\n",
       "Names               \n",
       "Daniel    1946-10-07\n",
       "Molly     1949-10-23\n",
       "Catharine 1982-09-19\n",
       "Jim       1983-04-13"
      ]
     },
     "execution_count": 19,
     "metadata": {},
     "output_type": "execute_result"
    }
   ],
   "source": [
    "df.sort_values(by='DOB', ascending=True)"
   ]
  },
  {
   "cell_type": "markdown",
   "metadata": {},
   "source": [
    "Use 'loc' funtion to isolate single row of df"
   ]
  },
  {
   "cell_type": "code",
   "execution_count": 40,
   "metadata": {},
   "outputs": [
    {
     "data": {
      "text/plain": [
       "DOB         1983-04-13 00:00:00\n",
       "ord_dob                  711788\n",
       "age_days                  25164\n",
       "age_yrs                 68.8953\n",
       "Name: Jim, dtype: object"
      ]
     },
     "execution_count": 40,
     "metadata": {},
     "output_type": "execute_result"
    }
   ],
   "source": [
    "df.loc['Jim']"
   ]
  },
  {
   "cell_type": "code",
   "execution_count": 38,
   "metadata": {},
   "outputs": [
    {
     "data": {
      "text/html": [
       "<div>\n",
       "<style scoped>\n",
       "    .dataframe tbody tr th:only-of-type {\n",
       "        vertical-align: middle;\n",
       "    }\n",
       "\n",
       "    .dataframe tbody tr th {\n",
       "        vertical-align: top;\n",
       "    }\n",
       "\n",
       "    .dataframe thead th {\n",
       "        text-align: right;\n",
       "    }\n",
       "</style>\n",
       "<table border=\"1\" class=\"dataframe\">\n",
       "  <thead>\n",
       "    <tr style=\"text-align: right;\">\n",
       "      <th></th>\n",
       "      <th>DOB</th>\n",
       "      <th>ord_dob</th>\n",
       "      <th>age_days</th>\n",
       "      <th>age_yrs</th>\n",
       "    </tr>\n",
       "    <tr>\n",
       "      <th>Names</th>\n",
       "      <th></th>\n",
       "      <th></th>\n",
       "      <th></th>\n",
       "      <th></th>\n",
       "    </tr>\n",
       "  </thead>\n",
       "  <tbody>\n",
       "    <tr>\n",
       "      <th>Jim</th>\n",
       "      <td>1983-04-13</td>\n",
       "      <td>711788</td>\n",
       "      <td>25164</td>\n",
       "      <td>68.895277</td>\n",
       "    </tr>\n",
       "    <tr>\n",
       "      <th>Catharine</th>\n",
       "      <td>1982-09-19</td>\n",
       "      <td>711788</td>\n",
       "      <td>25164</td>\n",
       "      <td>68.895277</td>\n",
       "    </tr>\n",
       "    <tr>\n",
       "      <th>Daniel</th>\n",
       "      <td>1946-10-07</td>\n",
       "      <td>711788</td>\n",
       "      <td>25164</td>\n",
       "      <td>68.895277</td>\n",
       "    </tr>\n",
       "    <tr>\n",
       "      <th>Molly</th>\n",
       "      <td>1949-10-23</td>\n",
       "      <td>711788</td>\n",
       "      <td>25164</td>\n",
       "      <td>68.895277</td>\n",
       "    </tr>\n",
       "  </tbody>\n",
       "</table>\n",
       "</div>"
      ],
      "text/plain": [
       "                 DOB  ord_dob  age_days    age_yrs\n",
       "Names                                             \n",
       "Jim       1983-04-13   711788     25164  68.895277\n",
       "Catharine 1982-09-19   711788     25164  68.895277\n",
       "Daniel    1946-10-07   711788     25164  68.895277\n",
       "Molly     1949-10-23   711788     25164  68.895277"
      ]
     },
     "execution_count": 38,
     "metadata": {},
     "output_type": "execute_result"
    }
   ],
   "source": [
    "df"
   ]
  },
  {
   "cell_type": "markdown",
   "metadata": {},
   "source": [
    "create a for-loop which calculates 'age_days' field"
   ]
  },
  {
   "cell_type": "code",
   "execution_count": 63,
   "metadata": {},
   "outputs": [],
   "source": [
    "def calculate_age_df():\n",
    "\n",
    "    # Get today in ordinal:\n",
    "    today = dt.date.today()\n",
    "    ord_today = today.toordinal()\n",
    "\n",
    "    # Create lists to store the data\n",
    "    ord_dob = []\n",
    "    age_days = []\n",
    "    age_yrs = []\n",
    "#     \n",
    "    \n",
    "    for x in df['DOB']:\n",
    "        \n",
    "        ord_dob = x.toordinal()\n",
    "#         age_days = ord_today - ord_dob\n",
    "#         df['age_days'] = ord_today - ord_dob\n",
    "        age_days.append(ord_today-ord_dob)\n",
    "#         ord_dob.append(x.toordinal())\n",
    "        print(ord_dob)\n",
    "\n",
    "# Create a column from the list\n",
    "    df['ord_dob'] = ord_dob\n",
    "    df['age_days'] = age_days\n",
    "# Calculate age in years year = datetime\n",
    "    df['age_yrs'] =  (age_days / 365.25)  \n",
    "#     age_yrs = '{:.2f}'.format(age)\n",
    "# df\n",
    "        \n",
    "# from here: https://stackoverflow.com/questions/49821125/pandas-iterate-through-dataframe-and-calculate-difference-between-column-value           "
   ]
  },
  {
   "cell_type": "code",
   "execution_count": 64,
   "metadata": {},
   "outputs": [
    {
     "name": "stdout",
     "output_type": "stream",
     "text": [
      "724013\n",
      "723807\n",
      "710676\n",
      "711788\n"
     ]
    },
    {
     "ename": "TypeError",
     "evalue": "unsupported operand type(s) for /: 'list' and 'float'",
     "output_type": "error",
     "traceback": [
      "\u001b[1;31m---------------------------------------------------------------------------\u001b[0m",
      "\u001b[1;31mTypeError\u001b[0m                                 Traceback (most recent call last)",
      "\u001b[1;32m<ipython-input-64-ab5f54e3ce00>\u001b[0m in \u001b[0;36m<module>\u001b[1;34m()\u001b[0m\n\u001b[1;32m----> 1\u001b[1;33m \u001b[0mcalculate_age_df\u001b[0m\u001b[1;33m(\u001b[0m\u001b[1;33m)\u001b[0m\u001b[1;33m\u001b[0m\u001b[0m\n\u001b[0m\u001b[0;32m      2\u001b[0m \u001b[0mdf\u001b[0m\u001b[1;33m\u001b[0m\u001b[0m\n",
      "\u001b[1;32m<ipython-input-63-86ed5c4f95f2>\u001b[0m in \u001b[0;36mcalculate_age_df\u001b[1;34m()\u001b[0m\n\u001b[0;32m     24\u001b[0m     \u001b[0mdf\u001b[0m\u001b[1;33m[\u001b[0m\u001b[1;34m'age_days'\u001b[0m\u001b[1;33m]\u001b[0m \u001b[1;33m=\u001b[0m \u001b[0mage_days\u001b[0m\u001b[1;33m\u001b[0m\u001b[0m\n\u001b[0;32m     25\u001b[0m \u001b[1;31m# Calculate age in years year = datetime\u001b[0m\u001b[1;33m\u001b[0m\u001b[1;33m\u001b[0m\u001b[0m\n\u001b[1;32m---> 26\u001b[1;33m     \u001b[0mdf\u001b[0m\u001b[1;33m[\u001b[0m\u001b[1;34m'age_yrs'\u001b[0m\u001b[1;33m]\u001b[0m \u001b[1;33m=\u001b[0m  \u001b[1;33m(\u001b[0m\u001b[0mage_days\u001b[0m \u001b[1;33m/\u001b[0m \u001b[1;36m365.25\u001b[0m\u001b[1;33m)\u001b[0m\u001b[1;33m\u001b[0m\u001b[0m\n\u001b[0m\u001b[0;32m     27\u001b[0m \u001b[1;31m#     age_yrs = '{:.2f}'.format(age)\u001b[0m\u001b[1;33m\u001b[0m\u001b[1;33m\u001b[0m\u001b[0m\n\u001b[0;32m     28\u001b[0m \u001b[1;31m# df\u001b[0m\u001b[1;33m\u001b[0m\u001b[1;33m\u001b[0m\u001b[0m\n",
      "\u001b[1;31mTypeError\u001b[0m: unsupported operand type(s) for /: 'list' and 'float'"
     ]
    }
   ],
   "source": [
    "calculate_age_df()\n",
    "df"
   ]
  },
  {
   "cell_type": "code",
   "execution_count": 42,
   "metadata": {},
   "outputs": [],
   "source": [
    "# define columns of dataframe\n",
    "# pd.DataFrame(data=None, index=family, columns='DOB', 'ord_dob', 'age_days', 'age_yrs')"
   ]
  },
  {
   "cell_type": "code",
   "execution_count": 43,
   "metadata": {},
   "outputs": [],
   "source": [
    "# DOB = pd.Series(dtype=)"
   ]
  },
  {
   "cell_type": "markdown",
   "metadata": {},
   "source": [
    "Create a list of family members whose birthdays you know."
   ]
  },
  {
   "cell_type": "code",
   "execution_count": 46,
   "metadata": {},
   "outputs": [
    {
     "data": {
      "text/html": [
       "<div>\n",
       "<style scoped>\n",
       "    .dataframe tbody tr th:only-of-type {\n",
       "        vertical-align: middle;\n",
       "    }\n",
       "\n",
       "    .dataframe tbody tr th {\n",
       "        vertical-align: top;\n",
       "    }\n",
       "\n",
       "    .dataframe thead th {\n",
       "        text-align: right;\n",
       "    }\n",
       "</style>\n",
       "<table border=\"1\" class=\"dataframe\">\n",
       "  <thead>\n",
       "    <tr style=\"text-align: right;\">\n",
       "      <th></th>\n",
       "      <th>Name</th>\n",
       "      <th>Year</th>\n",
       "      <th>Month</th>\n",
       "      <th>Day</th>\n",
       "    </tr>\n",
       "  </thead>\n",
       "  <tbody>\n",
       "    <tr>\n",
       "      <th>0</th>\n",
       "      <td>Jim</td>\n",
       "      <td>1983</td>\n",
       "      <td>4</td>\n",
       "      <td>13</td>\n",
       "    </tr>\n",
       "    <tr>\n",
       "      <th>1</th>\n",
       "      <td>Daniel</td>\n",
       "      <td>1946</td>\n",
       "      <td>10</td>\n",
       "      <td>7</td>\n",
       "    </tr>\n",
       "    <tr>\n",
       "      <th>2</th>\n",
       "      <td>Catharine</td>\n",
       "      <td>1982</td>\n",
       "      <td>9</td>\n",
       "      <td>19</td>\n",
       "    </tr>\n",
       "    <tr>\n",
       "      <th>3</th>\n",
       "      <td>Molly</td>\n",
       "      <td>1949</td>\n",
       "      <td>10</td>\n",
       "      <td>23</td>\n",
       "    </tr>\n",
       "  </tbody>\n",
       "</table>\n",
       "</div>"
      ],
      "text/plain": [
       "        Name  Year  Month  Day\n",
       "0        Jim  1983      4   13\n",
       "1     Daniel  1946     10    7\n",
       "2  Catharine  1982      9   19\n",
       "3      Molly  1949     10   23"
      ]
     },
     "execution_count": 46,
     "metadata": {},
     "output_type": "execute_result"
    }
   ],
   "source": [
    "data = ({'Name': ['Jim', 'Daniel', 'Catharine', 'Molly'], #input(\"Person's Name\"),\n",
    "    'Year': [1983, 1946, 1982, 1949],  # int(input(\"What year were you born?  \")),\n",
    "    'Month': [4, 10, 9, 10],#int(input(\"What month (1-12) were you born?  \")),\n",
    "    'Day': [13, 7, 19, 23], # int(input(\"What day (1-31) were you born?  \"))\n",
    "})\n",
    "\n",
    "df2 = pd.DataFrame(data, columns=['Name', 'Year', 'Month', 'Day'],index=None)\n",
    "    # save to datetime and ordinal types    \n",
    "#     birthdate = dt.date(year, month, day)\n",
    "#     ord_birthdate = birthdate.toordinal()\n",
    "\n",
    "df2"
   ]
  },
  {
   "cell_type": "code",
   "execution_count": 47,
   "metadata": {},
   "outputs": [
    {
     "ename": "NameError",
     "evalue": "name 'year' is not defined",
     "output_type": "error",
     "traceback": [
      "\u001b[1;31m---------------------------------------------------------------------------\u001b[0m",
      "\u001b[1;31mNameError\u001b[0m                                 Traceback (most recent call last)",
      "\u001b[1;32m<ipython-input-47-6e3ff23d6920>\u001b[0m in \u001b[0;36m<module>\u001b[1;34m()\u001b[0m\n\u001b[1;32m----> 1\u001b[1;33m \u001b[0mdf2\u001b[0m\u001b[1;33m[\u001b[0m\u001b[1;34m'DOB'\u001b[0m\u001b[1;33m]\u001b[0m \u001b[1;33m=\u001b[0m \u001b[0mdt\u001b[0m\u001b[1;33m.\u001b[0m\u001b[0mdate\u001b[0m\u001b[1;33m(\u001b[0m\u001b[0myear\u001b[0m\u001b[1;33m,\u001b[0m \u001b[0mmonth\u001b[0m\u001b[1;33m,\u001b[0m \u001b[0mday\u001b[0m\u001b[1;33m)\u001b[0m\u001b[1;33m\u001b[0m\u001b[0m\n\u001b[0m",
      "\u001b[1;31mNameError\u001b[0m: name 'year' is not defined"
     ]
    }
   ],
   "source": [
    "df2['DOB'] = dt.date(year, month, day)"
   ]
  },
  {
   "cell_type": "markdown",
   "metadata": {},
   "source": [
    "Print Dad's ordinal & age days"
   ]
  },
  {
   "cell_type": "markdown",
   "metadata": {},
   "source": [
    "Define Variables for While Loop"
   ]
  },
  {
   "cell_type": "code",
   "execution_count": 50,
   "metadata": {},
   "outputs": [
    {
     "name": "stdout",
     "output_type": "stream",
     "text": [
      "Today's ordinal:  736952\n",
      "Daniel's DOB ordinal:  710676\n",
      "Jim's DOB ordinal:  724013\n"
     ]
    }
   ],
   "source": [
    "# calculate today's ordinal\n",
    "ord_today = dt.datetime.today().toordinal()\n",
    "print(\"Today's ordinal: \", ord_today)\n",
    "\n",
    "ord_dad = dt.date(1946, 10, 7).toordinal()\n",
    "print(\"Daniel's DOB ordinal: \", ord_dad)\n",
    "\n",
    "ord_me = dt.date(1983, 4, 13).toordinal()\n",
    "print(\"Jim's DOB ordinal: \", ord_me) "
   ]
  },
  {
   "cell_type": "code",
   "execution_count": 59,
   "metadata": {},
   "outputs": [],
   "source": [
    "def half_age(): # could possibly use parameters\n",
    "\n",
    "    # calculate today's ordinal\n",
    "    ord_today = dt.datetime.today().toordinal()\n",
    "    ord_daniel = dt.date(1946, 10, 7).toordinal()\n",
    "    ord_jim = dt.date(1983, 4, 13).toordinal()\n",
    "        \n",
    "    daniel_age_days = ord_today - ord_daniel\n",
    "    jim_age_days = ord_today - ord_jim\n",
    "    \n",
    "    age_diff = daniel_age_days - jim_age_days\n",
    "    \n",
    "    while age_diff > jim_age_days:\n",
    "\n",
    "    #   increment today:\n",
    "        ord_today +=1\n",
    "        todays_date = dt.date.fromordinal(ord_today)\n",
    "\n",
    "    #   todays date\n",
    "        daniel_age_days = ord_today - ord_daniel\n",
    "        jim_age_days = ord_today - ord_jim\n",
    "    \n",
    "        age_diff = daniel_age_days - jim_age_days\n",
    "    \n",
    "    print(\"Today's date is :\", todays_date)\n",
    "    print(\"Today's age difference is: \", age_diff, \" days, while Jim's age is: \", jim_age_days, \" days.\")"
   ]
  },
  {
   "cell_type": "code",
   "execution_count": 60,
   "metadata": {},
   "outputs": [
    {
     "name": "stdout",
     "output_type": "stream",
     "text": [
      "Today's date is : 2019-10-18\n",
      "Today's age difference is:  13337  days, while Jim's age is:  13337  days.\n"
     ]
    }
   ],
   "source": [
    "half_age()"
   ]
  },
  {
   "cell_type": "code",
   "execution_count": null,
   "metadata": {},
   "outputs": [],
   "source": []
  }
 ],
 "metadata": {
  "kernelspec": {
   "display_name": "Python 3",
   "language": "python",
   "name": "python3"
  },
  "language_info": {
   "codemirror_mode": {
    "name": "ipython",
    "version": 3
   },
   "file_extension": ".py",
   "mimetype": "text/x-python",
   "name": "python",
   "nbconvert_exporter": "python",
   "pygments_lexer": "ipython3",
   "version": "3.7.0"
  }
 },
 "nbformat": 4,
 "nbformat_minor": 2
}
